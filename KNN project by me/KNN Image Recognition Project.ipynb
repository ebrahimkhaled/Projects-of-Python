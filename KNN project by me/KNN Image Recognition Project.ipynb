{
 "cells": [
  {
   "cell_type": "markdown",
   "metadata": {},
   "source": [
    "## KNN Digits Detection Example with OpenCV\n",
    "We have a Photo \"digits.png\" contain 10000x10000 px, with 50x50 letters, every letter is 20x20 px.\n",
    "every letter -starting from 0 to 9- will take 1000*10000 px. \n",
    "we need to train our model with this data so it can understand the different between 0,1,2,3,4,5,6,7,8,9.\n",
    "After then we test it using \"test_digits.png\" by different K.\n",
    "\n",
    "### to study this from OneNote (very detailed):\n",
    "https://1drv.ms/u/s!Agh44Vvd7grEhAsv-_TsHObSzS8j\n",
    "**CS231n** --> All Codes here are illustrated in CODE section (P1 OpenCV)\n",
    "\n",
    "this project to help me understand:\n",
    "**Course of standford --> CS231n (youtube,lecture 2)**"
   ]
  },
  {
   "cell_type": "code",
   "execution_count": null,
   "metadata": {},
   "outputs": [],
   "source": [
    "import cv2 \n",
    "import numpy as np"
   ]
  },
  {
   "cell_type": "code",
   "execution_count": 2,
   "metadata": {},
   "outputs": [],
   "source": [
    "image = cv2.imread( \"digits.png\",0)"
   ]
  },
  {
   "cell_type": "markdown",
   "metadata": {},
   "source": [
    "*How to show the image?*"
   ]
  },
  {
   "cell_type": "code",
   "execution_count": 3,
   "metadata": {},
   "outputs": [],
   "source": [
    "cv2.imshow(\"\",image)\n",
    "cv2.waitKey(0)\n",
    "cv2.destroyAllWindows()"
   ]
  },
  {
   "cell_type": "code",
   "execution_count": 4,
   "metadata": {},
   "outputs": [],
   "source": [
    "rows = np.vsplit(image,50) #splite into 50 parts\n",
    "cv2.imshow(\"\",rows[0])\n",
    "cv2.waitKey(0)\n",
    "cv2.destroyAllWindows()"
   ]
  },
  {
   "cell_type": "code",
   "execution_count": 5,
   "metadata": {},
   "outputs": [
    {
     "name": "stdout",
     "output_type": "stream",
     "text": [
      "(50, 20, 1000)\n"
     ]
    }
   ],
   "source": [
    "print(np.shape(rows))\n",
    "'''The rows in 3 Dimision array where, it consists of 50\n",
    "block, every block consists of 20x1000 matrix pixels'''\n",
    "#the hight was 1000 and we splite it into 50 part so each will be 20 (=1000/50)\n",
    "#to drag one letter 20x20 we need to splite again each part to 50 part\n",
    "cv2.imshow(\"\",rows[0][:,0:20])\n",
    "cv2.waitKey(0)\n",
    "cv2.destroyAllWindows()"
   ]
  },
  {
   "cell_type": "code",
   "execution_count": 6,
   "metadata": {},
   "outputs": [
    {
     "name": "stdout",
     "output_type": "stream",
     "text": [
      "(2500, 20, 20)\n"
     ]
    }
   ],
   "source": [
    "cells = []\n",
    "for row in rows :\n",
    "    row_cells = np.hsplit(row,50)\n",
    "    for row_cell in row_cells :\n",
    "        cells.append(row_cell)\n",
    "print(np.shape(cells))\n",
    "cv2.imshow(\"Last elment\",cells[2499])\n",
    "cv2.waitKey(0)\n",
    "cv2.destroyAllWindows()"
   ]
  },
  {
   "cell_type": "code",
   "execution_count": 7,
   "metadata": {},
   "outputs": [],
   "source": [
    "rep = np.repeat( np.arange(10),250)"
   ]
  },
  {
   "cell_type": "code",
   "execution_count": 8,
   "metadata": {
    "scrolled": true
   },
   "outputs": [],
   "source": [
    "#WILL NOT WORK\n",
    "knn = cv2.ml.KNearest_create()\n",
    "#knn.train(cells , rep)"
   ]
  },
  {
   "cell_type": "code",
   "execution_count": 9,
   "metadata": {},
   "outputs": [
    {
     "name": "stdout",
     "output_type": "stream",
     "text": [
      "New Shape is : (2500, 400)\n"
     ]
    }
   ],
   "source": [
    "#the KNN is taking 1D array for each bulk, how ever\n",
    "#we here has 2500 bulk each is 2D (20x20)\n",
    "#So we need to Flaten this making it (400x1)\n",
    "#and now we again : \n",
    "cells = []\n",
    "for row in rows :\n",
    "    row_cells = np.hsplit(row,50)\n",
    "    for row_cell in row_cells :\n",
    "        row_cell = row_cell.flatten()\n",
    "        cells.append(row_cell)\n",
    "print(\"New Shape is :\" , np.shape(cells))\n",
    "cv2.imshow(\"Last elment\",cells[2499])\n",
    "cv2.waitKey(0)\n",
    "cv2.destroyAllWindows()\n"
   ]
  },
  {
   "cell_type": "code",
   "execution_count": 10,
   "metadata": {},
   "outputs": [
    {
     "data": {
      "text/plain": [
       "True"
      ]
     },
     "execution_count": 10,
     "metadata": {},
     "output_type": "execute_result"
    }
   ],
   "source": [
    "cells = np.array( cells , dtype = np.float32 ) \n",
    "knn.train(cells , cv2.ml.ROW_SAMPLE, rep)"
   ]
  },
  {
   "cell_type": "code",
   "execution_count": 14,
   "metadata": {},
   "outputs": [
    {
     "data": {
      "text/plain": [
       "array([[0.],\n",
       "       [0.],\n",
       "       [0.],\n",
       "       [0.],\n",
       "       [0.],\n",
       "       [1.],\n",
       "       [1.],\n",
       "       [1.],\n",
       "       [1.],\n",
       "       [1.],\n",
       "       [5.],\n",
       "       [2.],\n",
       "       [2.],\n",
       "       [2.],\n",
       "       [2.],\n",
       "       [3.],\n",
       "       [3.],\n",
       "       [3.],\n",
       "       [3.],\n",
       "       [3.],\n",
       "       [4.],\n",
       "       [4.],\n",
       "       [4.],\n",
       "       [4.],\n",
       "       [4.],\n",
       "       [3.],\n",
       "       [5.],\n",
       "       [1.],\n",
       "       [5.],\n",
       "       [5.],\n",
       "       [6.],\n",
       "       [6.],\n",
       "       [6.],\n",
       "       [6.],\n",
       "       [6.],\n",
       "       [7.],\n",
       "       [7.],\n",
       "       [7.],\n",
       "       [7.],\n",
       "       [7.],\n",
       "       [8.],\n",
       "       [1.],\n",
       "       [8.],\n",
       "       [8.],\n",
       "       [8.],\n",
       "       [9.],\n",
       "       [9.],\n",
       "       [9.],\n",
       "       [9.],\n",
       "       [9.]], dtype=float32)"
      ]
     },
     "execution_count": 14,
     "metadata": {},
     "output_type": "execute_result"
    }
   ],
   "source": [
    "test_image = cv2.imread(\"test_digits.png\" , 0)\n",
    "test_cells = np.vsplit(test_image,50)\n",
    "#print ( np.shape(test_cells))\n",
    "TEST_CELLS = []\n",
    "\n",
    "for test_cell in test_cells:\n",
    "    test_cell = np.array(test_cell).flatten()\n",
    "    TEST_CELLS.append(test_cell)\n",
    "\n",
    "\n",
    "TEST_CELLS = np.array( TEST_CELLS , dtype = np.float32 )\n",
    "ret, results, nieghbours, dist = knn.findNearest(TEST_CELLS, k=1)\n",
    "\n",
    "results"
   ]
  },
  {
   "cell_type": "code",
   "execution_count": 28,
   "metadata": {},
   "outputs": [
    {
     "name": "stdout",
     "output_type": "stream",
     "text": [
      "The Accuracy of the Prediction = 92.0 %\n"
     ]
    }
   ],
   "source": [
    "#Accuracy for K = 1 \n",
    "Score_out_of_tweenty_five = 0 \n",
    "real_test_label = np.repeat( np.arange(10) , 5 )\n",
    "for i , result in enumerate(results) :        \n",
    "    if result[0] == real_test_label[i] :\n",
    "        Score_out_of_tweenty_five += 1\n",
    "\n",
    "print ( \"The Accuracy of the Prediction =\", Score_out_of_tweenty_five/50 *100,\"%\")"
   ]
  },
  {
   "cell_type": "code",
   "execution_count": 31,
   "metadata": {},
   "outputs": [
    {
     "name": "stdout",
     "output_type": "stream",
     "text": [
      "(K=3)The Accuracy of the Prediction = 90.0 %\n",
      "(K=5)The Accuracy of the Prediction = 90.0 %\n",
      "(K=7)The Accuracy of the Prediction = 94.0 %\n",
      "(K=9)The Accuracy of the Prediction = 94.0 %\n",
      "(K=11)The Accuracy of the Prediction = 94.0 %\n"
     ]
    }
   ],
   "source": [
    "#ACCURACY for k=3\n",
    "ret, results, nieghbours, dist = knn.findNearest(TEST_CELLS, k=3)\n",
    "Score_out_of_tweenty_five = 0\n",
    "for i , result in enumerate(results) :    \n",
    "    if result[0] == real_test_label[i] :\n",
    "        Score_out_of_tweenty_five += 1\n",
    "print ( \"(K=3)The Accuracy of the Prediction =\", Score_out_of_tweenty_five/50 *100,\"%\")\n",
    "#ACCURACY for k=5\n",
    "ret, results, nieghbours, dist = knn.findNearest(TEST_CELLS, k=5)\n",
    "Score_out_of_tweenty_five = 0\n",
    "for i , result in enumerate(results) :\n",
    "    if result[0] == real_test_label[i] :\n",
    "        Score_out_of_tweenty_five += 1\n",
    "print ( \"(K=5)The Accuracy of the Prediction =\", Score_out_of_tweenty_five/50 *100,\"%\")\n",
    "#ACCURACY for k=7\n",
    "ret, results, nieghbours, dist = knn.findNearest(TEST_CELLS, k=7)\n",
    "Score_out_of_tweenty_five = 0\n",
    "for i , result in enumerate(results) :\n",
    "    if result[0] == real_test_label[i] :\n",
    "        Score_out_of_tweenty_five += 1\n",
    "print ( \"(K=7)The Accuracy of the Prediction =\", Score_out_of_tweenty_five/50 *100,\"%\")\n",
    "#ACCURACY for k=9\n",
    "ret, results, nieghbours, dist = knn.findNearest(TEST_CELLS, k=9)\n",
    "Score_out_of_tweenty_five = 0\n",
    "for i , result in enumerate(results) :\n",
    "    if result[0] == real_test_label[i] :\n",
    "        Score_out_of_tweenty_five += 1\n",
    "print ( \"(K=9)The Accuracy of the Prediction =\", Score_out_of_tweenty_five/50 *100,\"%\")\n",
    "#ACCURACY for k=11\n",
    "ret, results, nieghbours, dist = knn.findNearest(TEST_CELLS, k=11)\n",
    "Score_out_of_tweenty_five = 0\n",
    "for i , result in enumerate(results) :\n",
    "    if result[0] == real_test_label[i] :\n",
    "        Score_out_of_tweenty_five += 1\n",
    "print ( \"(K=11)The Accuracy of the Prediction =\", Score_out_of_tweenty_five/50 *100,\"%\")"
   ]
  },
  {
   "cell_type": "code",
   "execution_count": null,
   "metadata": {},
   "outputs": [],
   "source": [
    "#it seems that the best preformance at k=7 at 94%"
   ]
  }
 ],
 "metadata": {
  "kernelspec": {
   "display_name": "Python 3",
   "language": "python",
   "name": "python3"
  },
  "language_info": {
   "codemirror_mode": {
    "name": "ipython",
    "version": 3
   },
   "file_extension": ".py",
   "mimetype": "text/x-python",
   "name": "python",
   "nbconvert_exporter": "python",
   "pygments_lexer": "ipython3",
   "version": "3.7.3"
  }
 },
 "nbformat": 4,
 "nbformat_minor": 2
}
